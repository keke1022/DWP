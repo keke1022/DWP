{
 "cells": [
  {
   "cell_type": "code",
   "execution_count": 1,
   "metadata": {},
   "outputs": [],
   "source": [
    "import numpy as np\n",
    "import math\n",
    "import pandas as pd\n",
    "import seaborn as sns\n",
    "import matplotlib.pyplot as plt\n",
    "\n",
    "%matplotlib inline"
   ]
  },
  {
   "cell_type": "code",
   "execution_count": 2,
   "metadata": {},
   "outputs": [],
   "source": [
    "# multiply population\n",
    "# output [0,1]\n",
    "def sigmoidFunction(z, sigmoid_b, slow_scale):\n",
    "    fz = []\n",
    "    for num in z:\n",
    "        fz.append(1/(1 + math.exp(-(num * slow_scale) + sigmoid_b)))\n",
    "    return fz\n",
    "\n",
    "def reach_climax_time (df, col_name):\n",
    "    return (df[col_name].idxmax(axis=0))\n",
    "\n",
    "def climax_value(df, col_name):\n",
    "    climax_id = df[col_name].idxmax(axis=0)\n",
    "    return (df[col_name].loc[climax_id])"
   ]
  },
  {
   "cell_type": "code",
   "execution_count": null,
   "metadata": {},
   "outputs": [],
   "source": [
    "# get the total number of serving population of each clinic\n",
    "\n",
    "df_com = pd.read_excel(\"community.xlsx\")[[\"社区名称\",\"常住人口\",\"发热诊室\", \"x\", \"y\"]]#[\"地址\"]\n",
    "df_com.fillna(10000, inplace = True)\n",
    "\n",
    "clinic_name_list = [\"金洲社区卫生服务站\", \"丽景社区卫生服务站\", \"中天社区卫生服务站\", \"水都社区卫生服务站\"]\n",
    "clinic_serve_pop_list = [0,0,0,0]\n",
    "clinic_name_servepop_dic = dict(zip(clinic_name_list, clinic_serve_pop_list))\n",
    "for i in range(0, len(df_com)):\n",
    "    clinic_name_servepop_dic[(df_com.iloc[i][\"发热诊室\"])] += df_com.iloc[i][\"常住人口\"]\n"
   ]
  },
  {
   "attachments": {},
   "cell_type": "markdown",
   "metadata": {},
   "source": [
    "## Simulation"
   ]
  },
  {
   "cell_type": "code",
   "execution_count": 3,
   "metadata": {},
   "outputs": [],
   "source": [
    "def simulationFunc ():\n",
    "    com_population_list = [43750, 70081, 56015, 68615]\n",
    "    clinic_name_list = [\"金洲社区卫生服务站\", \"丽景社区卫生服务站\", \"中天社区卫生服务站\", \"水都社区卫生服务站\"]\n",
    "\n",
    "    clinic_scale_list = [3, 1, 3, 3] # cure n people per day\n",
    "    clinic_scale = 8\n",
    "\n",
    "    recover_time = 7\n",
    "    severe_percent = 0.1\n",
    "    sigmoid_b = 4.6\n",
    "    slow_scale = 0.25\n",
    "\n",
    "    max_sim = 100\n",
    "    date_list = list(range(0,max_sim,1))\n",
    "\n",
    "    total_severe_day_list = [[],[],[],[]]\n",
    "    clinic_avai_day_list = [[],[],[],[]]\n",
    "    total_severe_pop = [0,0,0,0]\n",
    "    total_severe_day_arr = np.zeros((4, len(date_list)))\n",
    "\n",
    "    #current_clinic_avai = clinic_scale_list #updated everyday\n",
    "\n",
    "    for day in date_list:\n",
    "        for i in range(4):\n",
    "            infected_day_arr = np.asarray(\n",
    "                sigmoidFunction(date_list, sigmoid_b,\n",
    "                            slow_scale)) * np.array(com_population_list[i])\n",
    "            new_infected_list = np.diff(np.insert(infected_day_arr, 0, 0))\n",
    "\n",
    "            # severe cases\n",
    "            new_infected_arr = np.asarray(new_infected_list)\n",
    "            new_severe_arr = new_infected_arr * severe_percent\n",
    "\n",
    "            total_severe_pop[i] = total_severe_pop[i] + new_severe_arr[day] - clinic_scale_list[i]\n",
    "            #print(total_severe_pop[i])\n",
    "            total_severe_day_list[i].append(total_severe_pop[i])\n",
    "            #print(total_severe_day_list[i])\n",
    "\n",
    "            if total_severe_pop[i] > 0:\n",
    "                avai_to_append = 0\n",
    "            else:\n",
    "                avai_to_append = total_severe_pop[i] * (-1)\n",
    "            clinic_avai_day_list[i].append(avai_to_append) ###\n",
    "            \n",
    "            total_severe_day_arr[i, day] = np.clip(np.asarray(total_severe_day_list[i][day]),0,com_population_list[i])\n",
    "            total_severe_day_list[i][day] = np.clip(np.asarray(total_severe_day_list[i][day]),0,com_population_list[i])\n",
    "            #print(total_severe_day_list[i][day])\n",
    "            #print(\"\")\n",
    "            #total_severe_day_list = total_severe_day_arr.tolist() \n",
    "            total_severe_pop[i] = total_severe_day_list[i][day] \n",
    "\n",
    "            \n",
    "\n",
    "    df_severe_byday = pd.DataFrame()\n",
    "    for i in range(4):\n",
    "        df_severe_byday[clinic_name_list[i]] = total_severe_day_arr[i]\n",
    "\n",
    "    return df_severe_byday\n",
    "\n",
    "    "
   ]
  },
  {
   "cell_type": "code",
   "execution_count": 4,
   "metadata": {},
   "outputs": [],
   "source": [
    "df_severe_byday = simulationFunc ()"
   ]
  },
  {
   "cell_type": "code",
   "execution_count": 6,
   "metadata": {},
   "outputs": [],
   "source": [
    "reach_climax_time_list = []\n",
    "climax_value_list = []\n",
    "clinic_name_list = [\"金洲社区卫生服务站\", \"丽景社区卫生服务站\", \"中天社区卫生服务站\", \"水都社区卫生服务站\"]\n",
    "\n",
    "for name in clinic_name_list:\n",
    "    reach_climax_time_list.append(reach_climax_time(df_severe_byday, name))\n",
    "    climax_value_list.append(climax_value(df_severe_byday, name))\n",
    "\n",
    "clinic_name_climax_time_dic = dict(zip(clinic_name_list, reach_climax_time_list))\n",
    "clinic_name_climax_value_dic = dict(zip(clinic_name_list, climax_value_list))\n",
    "\n",
    "df_all = pd.read_excel(\"community.xlsx\")[[\"社区名称\",\"常住人口\",\"发热诊室\", \"x\", \"y\"]]\n",
    "df_all[\"达峰时间\"] = np.zeros(len(df_all))\n",
    "df_all[\"峰值\"] = np.zeros(len(df_all))\n",
    "\n",
    "for clinic in clinic_name_list:\n",
    "    df_all.loc[df_all['发热诊室']==clinic,\"达峰时间\"] = clinic_name_climax_time_dic[clinic]\n",
    "    df_all.loc[df_all['发热诊室']==clinic,\"峰值\"] = clinic_name_climax_value_dic[clinic]\n",
    "\n",
    "df_all[\"w\"] = df_all[\"峰值\"]/df_all[\"达峰时间\"]"
   ]
  }
 ],
 "metadata": {
  "kernelspec": {
   "display_name": "py39",
   "language": "python",
   "name": "python3"
  },
  "language_info": {
   "codemirror_mode": {
    "name": "ipython",
    "version": 3
   },
   "file_extension": ".py",
   "mimetype": "text/x-python",
   "name": "python",
   "nbconvert_exporter": "python",
   "pygments_lexer": "ipython3",
   "version": "3.9.13"
  },
  "orig_nbformat": 4,
  "vscode": {
   "interpreter": {
    "hash": "f17d57e5fc6ee481ff7e68a143ed0edc07dba6babbe5d2cf56f5efad89bcf61d"
   }
  }
 },
 "nbformat": 4,
 "nbformat_minor": 2
}

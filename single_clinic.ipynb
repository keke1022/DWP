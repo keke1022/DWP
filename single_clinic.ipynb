{
 "cells": [
  {
   "cell_type": "code",
   "execution_count": 1,
   "metadata": {},
   "outputs": [],
   "source": [
    "import numpy as np\n",
    "import math\n",
    "import pandas as pd\n",
    "import seaborn as sns\n",
    "import matplotlib.pyplot as plt\n",
    "\n",
    "%matplotlib inline"
   ]
  },
  {
   "attachments": {},
   "cell_type": "markdown",
   "metadata": {},
   "source": [
    "### data"
   ]
  },
  {
   "cell_type": "code",
   "execution_count": 2,
   "metadata": {},
   "outputs": [
    {
     "data": {
      "text/plain": [
       "{'金洲社区卫生服务站': 43750.0,\n",
       " '丽景社区卫生服务站': 70081.0,\n",
       " '中天社区卫生服务站': 56015.0,\n",
       " '水都社区卫生服务站': 68615.0}"
      ]
     },
     "execution_count": 2,
     "metadata": {},
     "output_type": "execute_result"
    }
   ],
   "source": [
    "# get the total number of serving population of each clinic\n",
    "\n",
    "df_com = pd.read_excel(\"community.xlsx\")[[\"社区名称\",\"常住人口\",\"发热诊室\", \"x\", \"y\"]]#[\"地址\"]\n",
    "df_com.fillna(10000, inplace = True)\n",
    "\n",
    "clinic_name_list = [\"金洲社区卫生服务站\", \"丽景社区卫生服务站\", \"中天社区卫生服务站\", \"水都社区卫生服务站\"]\n",
    "clinic_serve_pop_list = [0,0,0,0]\n",
    "clinic_name_servepop_dic = dict(zip(clinic_name_list, clinic_serve_pop_list))\n",
    "for i in range(0, len(df_com)):\n",
    "    clinic_name_servepop_dic[(df_com.iloc[i][\"发热诊室\"])] += df_com.iloc[i][\"常住人口\"]\n",
    "clinic_name_servepop_dic"
   ]
  },
  {
   "cell_type": "code",
   "execution_count": 3,
   "metadata": {},
   "outputs": [
    {
     "data": {
      "text/html": [
       "<div>\n",
       "<style scoped>\n",
       "    .dataframe tbody tr th:only-of-type {\n",
       "        vertical-align: middle;\n",
       "    }\n",
       "\n",
       "    .dataframe tbody tr th {\n",
       "        vertical-align: top;\n",
       "    }\n",
       "\n",
       "    .dataframe thead th {\n",
       "        text-align: right;\n",
       "    }\n",
       "</style>\n",
       "<table border=\"1\" class=\"dataframe\">\n",
       "  <thead>\n",
       "    <tr style=\"text-align: right;\">\n",
       "      <th></th>\n",
       "      <th>社区名称</th>\n",
       "      <th>常住人口</th>\n",
       "      <th>发热诊室</th>\n",
       "      <th>x</th>\n",
       "      <th>y</th>\n",
       "    </tr>\n",
       "  </thead>\n",
       "  <tbody>\n",
       "    <tr>\n",
       "      <th>0</th>\n",
       "      <td>金山街道金洲社区</td>\n",
       "      <td>8500.0</td>\n",
       "      <td>金洲社区卫生服务站</td>\n",
       "      <td>1154</td>\n",
       "      <td>283</td>\n",
       "    </tr>\n",
       "    <tr>\n",
       "      <th>1</th>\n",
       "      <td>金山街道幸福社区</td>\n",
       "      <td>7850.0</td>\n",
       "      <td>丽景社区卫生服务站</td>\n",
       "      <td>801</td>\n",
       "      <td>945</td>\n",
       "    </tr>\n",
       "    <tr>\n",
       "      <th>2</th>\n",
       "      <td>金山街道六江道社区</td>\n",
       "      <td>6900.0</td>\n",
       "      <td>中天社区卫生服务站</td>\n",
       "      <td>432</td>\n",
       "      <td>980</td>\n",
       "    </tr>\n",
       "    <tr>\n",
       "      <th>3</th>\n",
       "      <td>金山街道金环社区</td>\n",
       "      <td>10832.0</td>\n",
       "      <td>金洲社区卫生服务站</td>\n",
       "      <td>1303</td>\n",
       "      <td>256</td>\n",
       "    </tr>\n",
       "    <tr>\n",
       "      <th>4</th>\n",
       "      <td>金山街道鑫龙社区</td>\n",
       "      <td>9000.0</td>\n",
       "      <td>丽景社区卫生服务站</td>\n",
       "      <td>704</td>\n",
       "      <td>479</td>\n",
       "    </tr>\n",
       "  </tbody>\n",
       "</table>\n",
       "</div>"
      ],
      "text/plain": [
       "        社区名称     常住人口       发热诊室     x    y\n",
       "0   金山街道金洲社区   8500.0  金洲社区卫生服务站  1154  283\n",
       "1   金山街道幸福社区   7850.0  丽景社区卫生服务站   801  945\n",
       "2  金山街道六江道社区   6900.0  中天社区卫生服务站   432  980\n",
       "3   金山街道金环社区  10832.0  金洲社区卫生服务站  1303  256\n",
       "4   金山街道鑫龙社区   9000.0  丽景社区卫生服务站   704  479"
      ]
     },
     "execution_count": 3,
     "metadata": {},
     "output_type": "execute_result"
    }
   ],
   "source": [
    "df_com.head()"
   ]
  },
  {
   "cell_type": "code",
   "execution_count": 17,
   "metadata": {},
   "outputs": [],
   "source": [
    "com_population_list = [43750, 70081, 56015, 68615]\n",
    "\n",
    "clinic_scale_list = [3000, 1000, 3000, 3000] # cure n people per day\n",
    "clinic_scale = 8\n",
    "\n",
    "recover_time = 7\n",
    "severe_percent = 0.1\n",
    "sigmoid_b = 4.6\n",
    "slow_scale = 0.25\n",
    "\n",
    "max_sim = 100\n",
    "date_list = list(range(0,max_sim,1))"
   ]
  },
  {
   "attachments": {},
   "cell_type": "markdown",
   "metadata": {},
   "source": [
    "### basic functions"
   ]
  },
  {
   "cell_type": "code",
   "execution_count": 18,
   "metadata": {},
   "outputs": [],
   "source": [
    "# multiply population\n",
    "# output [0,1]\n",
    "def sigmoidFunction(z, sigmoid_b, slow_scale):\n",
    "    fz = []\n",
    "    for num in z:\n",
    "        fz.append(1/(1 + math.exp(-(num * slow_scale) + sigmoid_b)))\n",
    "    return fz"
   ]
  },
  {
   "cell_type": "code",
   "execution_count": 19,
   "metadata": {},
   "outputs": [],
   "source": [
    "total_severe_day_list = [[],[],[],[]] # shape: (4, 100)\n",
    "clinic_avai_day_list = [[],[],[],[]] # shape: (4, 100)\n",
    "total_severe_pop = [0,0,0,0]\n",
    "total_severe_day_arr = np.zeros((4, len(date_list)))\n",
    "\n",
    "#current_clinic_avai = clinic_scale_list #updated everyday\n",
    "\n",
    "for day in date_list:\n",
    "    for i in range(4):\n",
    "        infected_day_arr = np.asarray(\n",
    "            sigmoidFunction(date_list, sigmoid_b,\n",
    "                        slow_scale)) * np.array(com_population_list[i])\n",
    "        new_infected_list = np.diff(np.insert(infected_day_arr, 0, 0))\n",
    "\n",
    "        # severe cases\n",
    "        new_infected_arr = np.asarray(new_infected_list)\n",
    "        new_severe_arr = new_infected_arr * severe_percent\n",
    "\n",
    "        total_severe_pop[i] = total_severe_pop[i] + new_severe_arr[day] - clinic_scale_list[i]\n",
    "        #print(total_severe_pop[i])\n",
    "        total_severe_day_list[i].append(total_severe_pop[i])\n",
    "\n",
    "        if total_severe_pop[i] > 0:\n",
    "            avai_to_append = 0\n",
    "        else:\n",
    "            avai_to_append = total_severe_pop[i] * (-1)\n",
    "        clinic_avai_day_list[i].append(avai_to_append) ###\n",
    "        \n",
    "        total_severe_day_arr[i, day] = np.clip(np.asarray(total_severe_day_list[i][day]),0,com_population_list[i])\n",
    "        total_severe_day_list = total_severe_day_arr.tolist() \n",
    "        total_severe_pop[i] = total_severe_day_list[i][day] \n",
    "\n",
    "        \n",
    "\n",
    "for i in range(4):\n",
    "    df = pd.DataFrame({'total severe cases': total_severe_day_arr[i]})\n",
    "    #df.plot()"
   ]
  },
  {
   "cell_type": "code",
   "execution_count": 27,
   "metadata": {},
   "outputs": [
    {
     "name": "stderr",
     "output_type": "stream",
     "text": [
      "C:\\Users\\admin\\AppData\\Local\\Temp\\ipykernel_16968\\1642850739.py:4: UserWarning: \n",
      "\n",
      "`distplot` is a deprecated function and will be removed in seaborn v0.14.0.\n",
      "\n",
      "Please adapt your code to use either `displot` (a figure-level function with\n",
      "similar flexibility) or `histplot` (an axes-level function for histograms).\n",
      "\n",
      "For a guide to updating your code to use the new functions, please see\n",
      "https://gist.github.com/mwaskom/de44147ed2974457ad6372750bbe5751\n",
      "\n",
      "  sns.distplot(avaiu_df[\"avai\"],rug=True)\n"
     ]
    },
    {
     "data": {
      "text/plain": [
       "<AxesSubplot: xlabel='avai', ylabel='Density'>"
      ]
     },
     "execution_count": 27,
     "metadata": {},
     "output_type": "execute_result"
    },
    {
     "data": {
      "image/png": "[encoded data removed]",
      "text/plain": [
       "<Figure size 640x480 with 1 Axes>"
      ]
     },
     "metadata": {},
     "output_type": "display_data"
    }
   ],
   "source": [
    "avaiu_df = pd.DataFrame({'avai': clinic_avai_day_list[1]})\n",
    "avaiu_df.plot()\n",
    "#sns.pairplot(avaiu_df)#, hue='avai')\n",
    "sns.distplot(avaiu_df[\"avai\"],rug=True)"
   ]
  },
  {
   "cell_type": "code",
   "execution_count": 21,
   "metadata": {},
   "outputs": [
    {
     "data": {
      "text/plain": [
       "[2956.4608668322935,\n",
       " 2987.791354262218,\n",
       " 2984.424344155434,\n",
       " 2980.1644274808273,\n",
       " 2974.7971603704386,\n",
       " 2968.0705037023836,\n",
       " 2959.6971028291528,\n",
       " 2949.363477547511,\n",
       " 2936.7501738175984,\n",
       " 2921.5678345759557,\n",
       " 2903.61416169538,\n",
       " 2882.8546683160193,\n",
       " 2859.524359375707,\n",
       " 2834.236688409936,\n",
       " 2808.070838607784,\n",
       " 2782.593286344992,\n",
       " 2759.765091414223,\n",
       " 2741.7055680254643,\n",
       " 2730.3320374570435,\n",
       " 2726.960481400733,\n",
       " 2731.997060386927,\n",
       " 2744.8377387954206,\n",
       " 2764.016700212165,\n",
       " 2787.5438123320305,\n",
       " 2813.305749208567,\n",
       " 2839.406166841356,\n",
       " 2864.3729209405546,\n",
       " 2887.2245258075154,\n",
       " 2907.431446015279,\n",
       " 2924.8213693631724,\n",
       " 2939.469921943995,\n",
       " 2951.602503658957,\n",
       " 2961.518315928686,\n",
       " 2969.5379185618426,\n",
       " 2975.970760969026,\n",
       " 2981.09759744395,\n",
       " 2985.1629680256615,\n",
       " 2988.373912614814,\n",
       " 2990.9021777102193,\n",
       " 2992.8881059390633,\n",
       " 2994.445095758821,\n",
       " 2995.6639990086724,\n",
       " 2996.6171342503826,\n",
       " 2997.3617829191708,\n",
       " 2997.9431434684193,\n",
       " 2998.396775545494,\n",
       " 2998.7505920666176,\n",
       " 2999.0264650805852,\n",
       " 2999.2415097790654,\n",
       " 2999.4091048848923,\n",
       " 2999.5396997828225,\n",
       " 2999.6414507029417,\n",
       " 2999.7207208015884,\n",
       " 2999.7824724357315,\n",
       " 2999.830574375471,\n",
       " 2999.8680420997066,\n",
       " 2999.897225569296,\n",
       " 2999.91995584786,\n",
       " 2999.937659522656,\n",
       " 2999.951447956738,\n",
       " 2999.9621868842105,\n",
       " 2999.9705506630403,\n",
       " 2999.977064558688,\n",
       " 2999.982137693775,\n",
       " 2999.986088720891,\n",
       " 2999.9891658236584,\n",
       " 2999.9915622978106,\n",
       " 2999.993428688386,\n",
       " 2999.994882243695,\n",
       " 2999.996014279088,\n",
       " 2999.996895912403,\n",
       " 2999.9975825310976,\n",
       " 2999.9981172714747,\n",
       " 2999.998533728428,\n",
       " 2999.998858065871,\n",
       " 2999.999110660393,\n",
       " 2999.9993073813675,\n",
       " 2999.9994605879137,\n",
       " 2999.999579905353,\n",
       " 2999.9996728299056,\n",
       " 2999.999745199638,\n",
       " 2999.9998015612596,\n",
       " 2999.9998454557403,\n",
       " 2999.9998796408026,\n",
       " 2999.999906264158,\n",
       " 2999.9999269984496,\n",
       " 2999.9999431463343,\n",
       " 2999.999955722319,\n",
       " 2999.9999655165075,\n",
       " 2999.999973144228,\n",
       " 2999.999979084703,\n",
       " 2999.9999837111513,\n",
       " 2999.999987314231,\n",
       " 2999.9999901203128,\n",
       " 2999.999992305694,\n",
       " 2999.999994007667,\n",
       " 2999.9999953331658,\n",
       " 2999.9999963654673,\n",
       " 2999.999997169422,\n",
       " 2999.999997795544]"
      ]
     },
     "execution_count": 21,
     "metadata": {},
     "output_type": "execute_result"
    }
   ],
   "source": [
    "clinic_avai_day_list[0]"
   ]
  },
  {
   "cell_type": "code",
   "execution_count": 22,
   "metadata": {},
   "outputs": [
    {
     "data": {
      "text/plain": [
       "(4, 100)"
      ]
     },
     "execution_count": 22,
     "metadata": {},
     "output_type": "execute_result"
    }
   ],
   "source": [
    "arr = total_severe_day_arr\n",
    "arr.shape"
   ]
  },
  {
   "cell_type": "code",
   "execution_count": 23,
   "metadata": {},
   "outputs": [
    {
     "data": {
      "text/plain": [
       "(4,)"
      ]
     },
     "execution_count": 23,
     "metadata": {},
     "output_type": "execute_result"
    }
   ],
   "source": [
    "clinic_scale_arr = np.array(clinic_scale_list)\n",
    "clinic_scale_arr.shape\n",
    "#np.reshape(clinic_scale_arr,[4,1])"
   ]
  },
  {
   "cell_type": "code",
   "execution_count": 24,
   "metadata": {},
   "outputs": [
    {
     "data": {
      "text/plain": [
       "array([3000., 3000., 3000., 3000., 3000., 3000., 3000., 3000., 3000.,\n",
       "       3000., 3000., 3000., 3000., 3000., 3000., 3000., 3000., 3000.,\n",
       "       3000., 3000., 3000., 3000., 3000., 3000., 3000., 3000., 3000.,\n",
       "       3000., 3000., 3000., 3000., 3000., 3000., 3000., 3000., 3000.,\n",
       "       3000., 3000., 3000., 3000., 3000., 3000., 3000., 3000., 3000.,\n",
       "       3000., 3000., 3000., 3000., 3000., 3000., 3000., 3000., 3000.,\n",
       "       3000., 3000., 3000., 3000., 3000., 3000., 3000., 3000., 3000.,\n",
       "       3000., 3000., 3000., 3000., 3000., 3000., 3000., 3000., 3000.,\n",
       "       3000., 3000., 3000., 3000., 3000., 3000., 3000., 3000., 3000.,\n",
       "       3000., 3000., 3000., 3000., 3000., 3000., 3000., 3000., 3000.,\n",
       "       3000., 3000., 3000., 3000., 3000., 3000., 3000., 3000., 3000.,\n",
       "       3000.])"
      ]
     },
     "execution_count": 24,
     "metadata": {},
     "output_type": "execute_result"
    }
   ],
   "source": [
    "broaded = (clinic_scale_arr - arr.T).T\n",
    "broaded = np.clip(broaded,0,com_population_list[i])\n",
    "\n",
    "broaded[3]"
   ]
  },
  {
   "attachments": {},
   "cell_type": "markdown",
   "metadata": {},
   "source": [
    "### old code"
   ]
  }
 ],
 "metadata": {
  "kernelspec": {
   "display_name": "Python 3",
   "language": "python",
   "name": "python3"
  },
  "language_info": {
   "codemirror_mode": {
    "name": "ipython",
    "version": 3
   },
   "file_extension": ".py",
   "mimetype": "text/x-python",
   "name": "python",
   "nbconvert_exporter": "python",
   "pygments_lexer": "ipython3",
   "version": "3.9.11 (tags/v3.9.11:2de452f, Mar 16 2022, 14:33:45) [MSC v.1929 64 bit (AMD64)]"
  },
  "orig_nbformat": 4,
  "vscode": {
   "interpreter": {
    "hash": "4cff3abf1678755e0069fd79299a535fe1940bcd71a6b01d9f4386710b2b163f"
   }
  }
 },
 "nbformat": 4,
 "nbformat_minor": 2
}

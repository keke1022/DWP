{
 "cells": [
  {
   "cell_type": "code",
   "execution_count": 1,
   "metadata": {},
   "outputs": [],
   "source": [
    "import numpy as np\n",
    "import math\n",
    "import pandas as pd\n",
    "import seaborn as sns\n",
    "import matplotlib.pyplot as plt\n",
    "\n",
    "%matplotlib inline"
   ]
  },
  {
   "cell_type": "code",
   "execution_count": 2,
   "metadata": {},
   "outputs": [],
   "source": [
    "# multiply population\n",
    "# output [0,1]\n",
    "def sigmoidFunction(z, sigmoid_b, slow_scale):\n",
    "    fz = []\n",
    "    for num in z:\n",
    "        fz.append(1/(1 + math.exp(-(num * slow_scale) + sigmoid_b)))\n",
    "    return fz\n",
    "\n",
    "def reach_climax_time (df, col_name):\n",
    "    return (df[col_name].idxmax(axis=0))\n",
    "\n",
    "def climax_value(df, col_name):\n",
    "    climax_id = df[col_name].idxmax(axis=0)\n",
    "    return (df[col_name].loc[climax_id])"
   ]
  },
  {
   "cell_type": "code",
   "execution_count": 3,
   "metadata": {},
   "outputs": [],
   "source": [
    "# get the total number of serving population of each clinic\n",
    "\n",
    "df_com = pd.read_excel(\"community.xlsx\")[[\"社区名称\",\"常住人口\",\"发热诊室\", \"x\", \"y\"]]#[\"地址\"]\n",
    "df_com.fillna(10000, inplace = True)\n",
    "\n",
    "clinic_name_list = [\"金洲社区卫生服务站\", \"丽景社区卫生服务站\", \"中天社区卫生服务站\", \"水都社区卫生服务站\"]\n",
    "clinic_serve_pop_list = [0,0,0,0]\n",
    "clinic_name_servepop_dic = dict(zip(clinic_name_list, clinic_serve_pop_list))\n",
    "for i in range(0, len(df_com)):\n",
    "    clinic_name_servepop_dic[(df_com.iloc[i][\"发热诊室\"])] += df_com.iloc[i][\"常住人口\"]\n"
   ]
  },
  {
   "attachments": {},
   "cell_type": "markdown",
   "metadata": {},
   "source": [
    "## Simulation"
   ]
  },
  {
   "cell_type": "code",
   "execution_count": 4,
   "metadata": {},
   "outputs": [],
   "source": [
    "def simulationFunc (com_population_list = [43750, 70081, 56015, 68615], clinic_name_list = \\\n",
    "    [\"金洲社区卫生服务站\", \"丽景社区卫生服务站\", \"中天社区卫生服务站\", \"水都社区卫生服务站\"], \\\n",
    "    clinic_scale_list = [15, 16, 17, 18], recover_time = 7, severe_percent = 0.1, sigmoid_b = 4.6, \\\n",
    "    slow_scale = 0.25, max_sim = 100):\n",
    "\n",
    "    date_list = list(range(0,max_sim,1))\n",
    "\n",
    "    total_severe_day_list = [[],[],[],[]]\n",
    "    clinic_avai_day_list = [[],[],[],[]]\n",
    "    total_severe_pop = [0,0,0,0]\n",
    "    total_severe_day_arr = np.zeros((4, len(date_list)))\n",
    "\n",
    "    #current_clinic_avai = clinic_scale_list #updated everyday\n",
    "\n",
    "    for day in date_list:\n",
    "        for i in range(4):\n",
    "            infected_day_arr = np.asarray(\n",
    "                sigmoidFunction(date_list, sigmoid_b,\n",
    "                            slow_scale)) * np.array(com_population_list[i])\n",
    "            new_infected_list = np.diff(np.insert(infected_day_arr, 0, 0))\n",
    "\n",
    "            # severe cases\n",
    "            new_infected_arr = np.asarray(new_infected_list)\n",
    "            new_severe_arr = new_infected_arr * severe_percent\n",
    "\n",
    "            total_severe_pop[i] = total_severe_pop[i] + new_severe_arr[day] - clinic_scale_list[i]\n",
    "            #print(total_severe_pop[i])\n",
    "            total_severe_day_list[i].append(total_severe_pop[i])\n",
    "            #print(total_severe_day_list[i])\n",
    "\n",
    "            if total_severe_pop[i] > 0:\n",
    "                avai_to_append = 0\n",
    "            else:\n",
    "                avai_to_append = total_severe_pop[i] * (-1)\n",
    "            clinic_avai_day_list[i].append(avai_to_append) ###\n",
    "            \n",
    "            total_severe_day_arr[i, day] = np.clip(np.asarray(total_severe_day_list[i][day]),0,com_population_list[i])\n",
    "            total_severe_day_list[i][day] = np.clip(np.asarray(total_severe_day_list[i][day]),0,com_population_list[i])\n",
    "            #print(total_severe_day_list[i][day])\n",
    "            #print(\"\")\n",
    "            #total_severe_day_list = total_severe_day_arr.tolist() \n",
    "            total_severe_pop[i] = total_severe_day_list[i][day] \n",
    "\n",
    "            \n",
    "\n",
    "    df_severe_byday = pd.DataFrame()\n",
    "    for i in range(4):\n",
    "        df_severe_byday[clinic_name_list[i]] = total_severe_day_arr[i]\n",
    "\n",
    "    return df_severe_byday\n",
    "\n",
    "    "
   ]
  },
  {
   "cell_type": "code",
   "execution_count": 5,
   "metadata": {},
   "outputs": [],
   "source": [
    "df_severe_byday = simulationFunc ()"
   ]
  },
  {
   "attachments": {},
   "cell_type": "markdown",
   "metadata": {},
   "source": [
    "## Compute weights"
   ]
  },
  {
   "cell_type": "code",
   "execution_count": 6,
   "metadata": {},
   "outputs": [],
   "source": [
    "df_severe_byday = simulationFunc ()\n",
    "\n",
    "reach_climax_time_list = []\n",
    "climax_value_list = []\n",
    "clinic_name_list = [\"金洲社区卫生服务站\", \"丽景社区卫生服务站\", \"中天社区卫生服务站\", \"水都社区卫生服务站\"]\n",
    "\n",
    "for name in clinic_name_list:\n",
    "    reach_climax_time_list.append(reach_climax_time(df_severe_byday, name))\n",
    "    climax_value_list.append(climax_value(df_severe_byday, name))\n",
    "\n",
    "clinic_name_climax_time_dic = dict(zip(clinic_name_list, reach_climax_time_list))\n",
    "clinic_name_climax_value_dic = dict(zip(clinic_name_list, climax_value_list))\n",
    "\n",
    "df_all = pd.read_excel(\"community.xlsx\")[[\"社区名称\",\"常住人口\",\"发热诊室\", \"x\", \"y\"]]\n",
    "df_all[\"达峰时间\"] = np.zeros(len(df_all))\n",
    "df_all[\"峰值\"] = np.zeros(len(df_all))\n",
    "\n",
    "for clinic in clinic_name_list:\n",
    "    df_all.loc[df_all['发热诊室']==clinic,\"达峰时间\"] = clinic_name_climax_time_dic[clinic]\n",
    "    df_all.loc[df_all['发热诊室']==clinic,\"峰值\"] = clinic_name_climax_value_dic[clinic]\n",
    "\n",
    "temp = df_all[\"峰值\"]/df_all[\"达峰时间\"]\n",
    "df_all[\"w\"] = temp / (temp.max())"
   ]
  },
  {
   "cell_type": "code",
   "execution_count": 7,
   "metadata": {},
   "outputs": [
    {
     "data": {
      "text/html": [
       "<div>\n",
       "<style scoped>\n",
       "    .dataframe tbody tr th:only-of-type {\n",
       "        vertical-align: middle;\n",
       "    }\n",
       "\n",
       "    .dataframe tbody tr th {\n",
       "        vertical-align: top;\n",
       "    }\n",
       "\n",
       "    .dataframe thead th {\n",
       "        text-align: right;\n",
       "    }\n",
       "</style>\n",
       "<table border=\"1\" class=\"dataframe\">\n",
       "  <thead>\n",
       "    <tr style=\"text-align: right;\">\n",
       "      <th></th>\n",
       "      <th>社区名称</th>\n",
       "      <th>常住人口</th>\n",
       "      <th>发热诊室</th>\n",
       "      <th>x</th>\n",
       "      <th>y</th>\n",
       "      <th>达峰时间</th>\n",
       "      <th>峰值</th>\n",
       "      <th>w</th>\n",
       "    </tr>\n",
       "  </thead>\n",
       "  <tbody>\n",
       "    <tr>\n",
       "      <th>0</th>\n",
       "      <td>金山街道金洲社区</td>\n",
       "      <td>8500.0</td>\n",
       "      <td>金洲社区卫生服务站</td>\n",
       "      <td>1154</td>\n",
       "      <td>283</td>\n",
       "      <td>35.0</td>\n",
       "      <td>3767.101065</td>\n",
       "      <td>0.628755</td>\n",
       "    </tr>\n",
       "    <tr>\n",
       "      <th>1</th>\n",
       "      <td>金山街道幸福社区</td>\n",
       "      <td>7850.0</td>\n",
       "      <td>丽景社区卫生服务站</td>\n",
       "      <td>801</td>\n",
       "      <td>945</td>\n",
       "      <td>37.0</td>\n",
       "      <td>6333.725979</td>\n",
       "      <td>1.000000</td>\n",
       "    </tr>\n",
       "    <tr>\n",
       "      <th>2</th>\n",
       "      <td>金山街道六江道社区</td>\n",
       "      <td>6900.0</td>\n",
       "      <td>中天社区卫生服务站</td>\n",
       "      <td>432</td>\n",
       "      <td>980</td>\n",
       "      <td>36.0</td>\n",
       "      <td>4904.562571</td>\n",
       "      <td>0.795867</td>\n",
       "    </tr>\n",
       "    <tr>\n",
       "      <th>3</th>\n",
       "      <td>金山街道金环社区</td>\n",
       "      <td>10832.0</td>\n",
       "      <td>金洲社区卫生服务站</td>\n",
       "      <td>1303</td>\n",
       "      <td>256</td>\n",
       "      <td>35.0</td>\n",
       "      <td>3767.101065</td>\n",
       "      <td>0.628755</td>\n",
       "    </tr>\n",
       "    <tr>\n",
       "      <th>4</th>\n",
       "      <td>金山街道鑫龙社区</td>\n",
       "      <td>9000.0</td>\n",
       "      <td>丽景社区卫生服务站</td>\n",
       "      <td>704</td>\n",
       "      <td>479</td>\n",
       "      <td>37.0</td>\n",
       "      <td>6333.725979</td>\n",
       "      <td>1.000000</td>\n",
       "    </tr>\n",
       "  </tbody>\n",
       "</table>\n",
       "</div>"
      ],
      "text/plain": [
       "        社区名称     常住人口       发热诊室     x    y  达峰时间           峰值         w\n",
       "0   金山街道金洲社区   8500.0  金洲社区卫生服务站  1154  283  35.0  3767.101065  0.628755\n",
       "1   金山街道幸福社区   7850.0  丽景社区卫生服务站   801  945  37.0  6333.725979  1.000000\n",
       "2  金山街道六江道社区   6900.0  中天社区卫生服务站   432  980  36.0  4904.562571  0.795867\n",
       "3   金山街道金环社区  10832.0  金洲社区卫生服务站  1303  256  35.0  3767.101065  0.628755\n",
       "4   金山街道鑫龙社区   9000.0  丽景社区卫生服务站   704  479  37.0  6333.725979  1.000000"
      ]
     },
     "execution_count": 7,
     "metadata": {},
     "output_type": "execute_result"
    }
   ],
   "source": [
    "df_all.head()"
   ]
  },
  {
   "cell_type": "code",
   "execution_count": 19,
   "metadata": {},
   "outputs": [
    {
     "data": {
      "text/plain": [
       "0     100.810659\n",
       "1     144.892060\n",
       "2     126.920343\n",
       "3     100.810659\n",
       "4     144.892060\n",
       "5     100.810659\n",
       "6     126.920343\n",
       "7     144.892060\n",
       "8     152.616321\n",
       "9     126.920343\n",
       "10    126.920343\n",
       "11    126.920343\n",
       "12    152.616321\n",
       "13    144.892060\n",
       "14    152.616321\n",
       "15    144.892060\n",
       "16    152.616321\n",
       "17    100.810659\n",
       "18    100.810659\n",
       "19    152.616321\n",
       "20    144.892060\n",
       "dtype: float64"
      ]
     },
     "execution_count": 19,
     "metadata": {},
     "output_type": "execute_result"
    }
   ],
   "source": [
    "temp"
   ]
  },
  {
   "attachments": {},
   "cell_type": "markdown",
   "metadata": {},
   "source": [
    "## Write the data into excel"
   ]
  },
  {
   "cell_type": "code",
   "execution_count": 9,
   "metadata": {},
   "outputs": [],
   "source": [
    "output_excel = pd.read_excel(\"community.xlsx\")\n",
    "output_excel[\"w\"] = df_all[\"w\"]\n",
    "output_excel.to_excel(\"community.xlsx\")"
   ]
  }
 ],
 "metadata": {
  "kernelspec": {
   "display_name": "py39",
   "language": "python",
   "name": "python3"
  },
  "language_info": {
   "codemirror_mode": {
    "name": "ipython",
    "version": 3
   },
   "file_extension": ".py",
   "mimetype": "text/x-python",
   "name": "python",
   "nbconvert_exporter": "python",
   "pygments_lexer": "ipython3",
   "version": "3.9.13"
  },
  "orig_nbformat": 4,
  "vscode": {
   "interpreter": {
    "hash": "f17d57e5fc6ee481ff7e68a143ed0edc07dba6babbe5d2cf56f5efad89bcf61d"
   }
  }
 },
 "nbformat": 4,
 "nbformat_minor": 2
}

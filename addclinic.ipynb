{
 "cells": [
  {
   "attachments": {},
   "cell_type": "markdown",
   "metadata": {},
   "source": [
    "# cost function\n",
    "\n",
    "For every community, the cost function is defined as $weight \\times distance^2$. Namely, the cost function is $w ((x - x_0)^2 + (y - y_0)^2)$"
   ]
  },
  {
   "cell_type": "code",
   "execution_count": 2,
   "metadata": {},
   "outputs": [],
   "source": [
    "import numpy as np"
   ]
  },
  {
   "cell_type": "code",
   "execution_count": 3,
   "metadata": {},
   "outputs": [
    {
     "data": {
      "text/plain": [
       "array([[  3., -12.,   3., -12.,  12.]])"
      ]
     },
     "execution_count": 3,
     "metadata": {},
     "output_type": "execute_result"
    }
   ],
   "source": [
    "def single_cost_func(x_old: float, y_old: float) -> np.ndarray:\n",
    "    '''\n",
    "        x and y are the position of one single clinic in the coordinate, \n",
    "        The return value stores the coefficients of [x^2, x, y^2, y, 1]\n",
    "    '''\n",
    "    return np.array([1, -2 * x_old, 1, -2 * y_old, x_old^2 + y_old^2])\n",
    "\n",
    "def cost_func(w_list: list, x_list: list, y_list: list):\n",
    "    '''\n",
    "        w_list stores the list of weight, \n",
    "        x_list stores the list of the x-axis, \n",
    "        y_list stores the list of the y-axis, \n",
    "        cost_func_coeff is the total sum of coefficients\n",
    "    '''\n",
    "    try:\n",
    "        cost_func_coeff = np.array(np.zeros((1, 5))) # 5 means the numbers of coefficients\n",
    "        # optimization\n",
    "        for i in range(len(w_list)):\n",
    "            cost_func_coeff += w_list[i] * single_cost_func(x_list[i], y_list[i]) # Addition between numpy arrays\n",
    "        return cost_func_coeff\n",
    "    except Exception as e:\n",
    "        print('Sum of w_list: {}'.format(np.sum(np.array(w_list))))\n",
    "        print('ERROR in cost_func: w_list = {}, x_list = {}, y_list = {}'.format(len(w_list), len(x_list), len(y_list))) \n",
    "        print(e)\n",
    "    \n",
    "\n",
    "cost_func([1,1,1], [1,2,3], [3,2,1])"
   ]
  },
  {
   "cell_type": "code",
   "execution_count": null,
   "metadata": {},
   "outputs": [],
   "source": []
  }
 ],
 "metadata": {
  "kernelspec": {
   "display_name": "Python 3",
   "language": "python",
   "name": "python3"
  },
  "language_info": {
   "codemirror_mode": {
    "name": "ipython",
    "version": 3
   },
   "file_extension": ".py",
   "mimetype": "text/x-python",
   "name": "python",
   "nbconvert_exporter": "python",
   "pygments_lexer": "ipython3",
   "version": "3.10.2"
  },
  "orig_nbformat": 4,
  "vscode": {
   "interpreter": {
    "hash": "2469a70536e4d2335a2ea8907942d0699c37342a371ac185bdb5b0aa6f073890"
   }
  }
 },
 "nbformat": 4,
 "nbformat_minor": 2
}
